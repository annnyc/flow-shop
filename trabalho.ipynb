{
 "cells": [
  {
   "cell_type": "code",
   "execution_count": 4,
   "metadata": {},
   "outputs": [
    {
     "name": "stdout",
     "output_type": "stream",
     "text": [
      "[[2, 1, 3], [2, 3, 1], [1, 2, 3], [3, 2, 1], [2, 1, 3]]\n"
     ]
    }
   ],
   "source": [
    "from parser import parse_files\n",
    "from createPopulation import createPopulation\n",
    "from makespan import makespan\n",
    "from avaliarPop import avaliarPop\n",
    "from retornaMelhorSolucao import retornaMelhorSolucao\n",
    "from selecionarPop import selecionarPop\n",
    "from recombinacao import recombinacao\n",
    "from mutacao import mutacao\n",
    "from selecionarNovaGeracao import selecionarNovaGeracao\n",
    "\n",
    "\n",
    "import time"
   ]
  },
  {
   "cell_type": "code",
   "execution_count": 5,
   "metadata": {},
   "outputs": [],
   "source": [
    "POPULATION_SIZE = 10\n",
    "TIME_LIMIT = 1\n",
    "MUTATION_FACTOR = .3"
   ]
  },
  {
   "cell_type": "markdown",
   "metadata": {},
   "source": [
    "### Ler e parsear os dados"
   ]
  },
  {
   "cell_type": "code",
   "execution_count": 6,
   "metadata": {},
   "outputs": [],
   "source": [
    "files_path = ['files/tai20_5.txt', 'files/tai20_10.txt', 'files/tai20_20.txt', 'files/tai50_5.txt', 'files/tai50_10.txt', 'files/tai50_20.txt', 'files/tai100_5.txt', 'files/tai100_10.txt', 'files/tai100_20.txt', 'files/tai200_10.txt']"
   ]
  },
  {
   "cell_type": "markdown",
   "metadata": {},
   "source": []
  },
  {
   "cell_type": "code",
   "execution_count": 7,
   "metadata": {},
   "outputs": [
    {
     "name": "stdout",
     "output_type": "stream",
     "text": [
      "{'processing': [[54, 83, 15, 71, 77, 36, 53, 38, 27, 87, 76, 91, 14, 29, 12, 77, 32, 87, 68, 94], [79, 3, 11, 99, 56, 70, 99, 60, 5, 56, 3, 61, 73, 75, 47, 14, 21, 86, 5, 77], [16, 89, 49, 15, 89, 45, 60, 23, 57, 64, 7, 1, 63, 41, 63, 47, 26, 75, 77, 40], [66, 58, 31, 68, 78, 91, 13, 59, 49, 85, 85, 9, 39, 41, 56, 40, 54, 77, 51, 31], [58, 56, 20, 85, 53, 35, 53, 41, 69, 13, 86, 72, 8, 49, 47, 87, 58, 18, 68, 28]], 'number of jobs': 20, 'number of machines': 5, 'initial seed': 873654221, 'upper bound and lower bound': 1278}\n"
     ]
    }
   ],
   "source": [
    "instances_list = parse_files(files_path)\n",
    "# o campo processing possui as instancias a serem calculadas\n",
    "print(instances_list[0])"
   ]
  },
  {
   "cell_type": "markdown",
   "metadata": {},
   "source": [
    "### Inicializar o relatorio para cada arquivo\n",
    "relatório é uma lista de dicionarios"
   ]
  },
  {
   "cell_type": "code",
   "execution_count": 8,
   "metadata": {},
   "outputs": [
    {
     "name": "stdout",
     "output_type": "stream",
     "text": [
      "[]\n"
     ]
    }
   ],
   "source": [
    "## traduzir para ingles\n",
    "report_list = []\n",
    "\n",
    "print(report_list)"
   ]
  },
  {
   "cell_type": "markdown",
   "metadata": {},
   "source": [
    "Iniciar o laço de repetição para cada arquivo"
   ]
  },
  {
   "cell_type": "code",
   "execution_count": 9,
   "metadata": {},
   "outputs": [],
   "source": [
    "from typing import List, Tuple\n",
    "import itertools\n",
    "import json\n",
    "import random\n",
    "\n",
    "''' Aplica o crossover entre os pais\n",
    "    Vamos dividir os dois pais em três pedaços,\n",
    "    Cada um desses pedaços seram recombinados\n",
    "    para gerar novos filhos.\n",
    "    Se os pedaços possuirem a mesma tarefa (job),\n",
    "    um dos items repetidos sera substituido pelas\n",
    "    tarefas restantes aleatoriamente\n",
    "    Um par de pais gera n filhos \n",
    "'''\n",
    "def crossover(par: Tuple[List[int], List[int]]):\n",
    "  pai1, pai2 = par\n",
    "\n",
    "  tamanho_de_cada_parte = len(pai1) // 3\n",
    "\n",
    "  partes_pai1 = [pai1[i:i+tamanho_de_cada_parte] for i in range(0, len(pai1), tamanho_de_cada_parte)]\n",
    "  partes_pai2 = [pai2[i:i+tamanho_de_cada_parte] for i in range(0, len(pai2), tamanho_de_cada_parte)]\n",
    "\n",
    "  ## partes_pai um possui uma lista de listas, cada uma com 1/3 da tarefa\n",
    "  ## ex: [[1, 2, 3], [4, 5, 6], [7, 8, 9]] para a entrada [1, 2, 3, 4, 5, 6, 7, 8, 9]\n",
    "  res = []\n",
    "    \n",
    "  ## gera uma coninação unica entre os pedaços de cada pai\n",
    "  all_combinations = list(itertools.combinations(partes_pai1 + partes_pai2, 3))\n",
    "  for combination_tuple in all_combinations:\n",
    "    temp = []\n",
    "    for item_list in combination_tuple:\n",
    "      temp += [*item_list]\n",
    "\n",
    "    ## remove possiveis duplicatas\n",
    "    ## savar como string para depois transaformar em set para eliminar possiveis repetições\n",
    "    try:\n",
    "      res.append(json.dumps(temp))\n",
    "    except Exception as e:\n",
    "      print(e)\n",
    "      print(type(temp))\n",
    "  unique_elements = [json.loads(x) for x in list(set(res))]\n",
    "\n",
    "  ## como cada elemento pode possuir a mesma tarefa mais de uma vez, precisamos fazer com que esse processo seje unico\n",
    "  possiveis_jobs = set(pai1)\n",
    "\n",
    "  ## remove jobs duplicados\n",
    "  novos_filhos = []\n",
    "\n",
    "  for novo_filho in unique_elements:\n",
    "    novo_filho_set = set(possiveis_jobs)\n",
    "    elementos_repetidos = {}\n",
    "\n",
    "    for job in novo_filho:\n",
    "      elementos_repetidos[job] = 1 + elementos_repetidos.get(job, 0)\n",
    "\n",
    "      if job in novo_filho_set:\n",
    "        novo_filho_set.remove(job)\n",
    "\n",
    "    for job_index in range(len(novo_filho)):\n",
    "      if elementos_repetidos[novo_filho[job_index]] > 1:\n",
    "        elementos_repetidos[novo_filho[job_index]] -= 1\n",
    "        novo_filho[job_index] = random.choice(list(novo_filho_set))\n",
    "        novo_filho_set.remove(novo_filho[job_index])\n",
    "\n",
    "    novos_filhos.append(novo_filho)\n",
    "  \n",
    "  ## retira possiveis filhos duplicados\n",
    "  json_item = [json.dumps(x) for x in novos_filhos]\n",
    "\n",
    "  json_list_set = list(set(json_item))\n",
    "\n",
    "  filhos_unicos = [json.loads(x) for x in json_list_set]\n",
    "  \n",
    "  return filhos_unicos\n",
    "\n",
    "def recombinacao(populacaoSelecionada: List[Tuple[List[int], List[int]]]):\n",
    "  return [crossover(par) for par in populacaoSelecionada]\n"
   ]
  },
  {
   "cell_type": "code",
   "execution_count": null,
   "metadata": {},
   "outputs": [],
   "source": []
  },
  {
   "cell_type": "markdown",
   "metadata": {},
   "source": []
  },
  {
   "cell_type": "code",
   "execution_count": 10,
   "metadata": {},
   "outputs": [
    {
     "name": "stdout",
     "output_type": "stream",
     "text": [
      "{'aptidao': 1452, 'solucao': [16, 12, 3, 19, 14, 11, 9, 13, 17, 18, 10, 8, 5, 7, 1, 2, 15, 20, 6, 4], 'tempoFinal': 1.0005760192871094}\n",
      "{'aptidao': 1465, 'solucao': [11, 7, 6, 10, 9, 2, 8, 5, 13, 14, 15, 19, 12, 3, 20, 4, 17, 18, 16, 1], 'tempoFinal': 1.0050959587097168}\n",
      "{'aptidao': 1414, 'solucao': [3, 4, 11, 15, 1, 9, 6, 8, 12, 17, 13, 10, 14, 20, 19, 16, 18, 5, 2, 7], 'tempoFinal': 1.0017585754394531}\n",
      "{'aptidao': 1420, 'solucao': [13, 14, 1, 7, 11, 3, 4, 9, 2, 8, 20, 19, 12, 15, 18, 17, 6, 16, 5, 10], 'tempoFinal': 1.002098798751831}\n",
      "{'aptidao': 1438, 'solucao': [5, 17, 20, 14, 6, 7, 11, 13, 8, 9, 2, 1, 16, 15, 4, 18, 19, 10, 12, 3], 'tempoFinal': 1.0024693012237549}\n",
      "{'aptidao': 1397, 'solucao': [14, 9, 13, 15, 6, 19, 1, 3, 11, 8, 12, 4, 18, 7, 16, 20, 17, 2, 10, 5], 'tempoFinal': 1.0004889965057373}\n",
      "{'aptidao': 1425, 'solucao': [8, 14, 3, 11, 5, 6, 20, 15, 12, 19, 13, 7, 4, 9, 2, 17, 18, 16, 10, 1], 'tempoFinal': 1.000810146331787}\n",
      "{'aptidao': 1424, 'solucao': [3, 2, 19, 9, 6, 5, 13, 17, 16, 12, 15, 8, 14, 11, 18, 1, 20, 7, 4, 10], 'tempoFinal': 1.0006563663482666}\n",
      "{'aptidao': 1410, 'solucao': [5, 19, 14, 7, 9, 3, 11, 13, 8, 20, 2, 4, 16, 15, 10, 17, 12, 1, 6, 18], 'tempoFinal': 1.005305290222168}\n",
      "{'aptidao': 1421, 'solucao': [5, 2, 14, 9, 18, 4, 1, 15, 8, 19, 11, 7, 13, 3, 6, 20, 16, 10, 12, 17], 'tempoFinal': 1.0037779808044434}\n"
     ]
    }
   ],
   "source": [
    "for instance_index in range(1):\n",
    "    # Começa vazio em todos os casos\n",
    "    melhoresSolucoes = []\n",
    "    todasAsMelhoresSolucoes = []\n",
    "\n",
    "    # Para cada instância executar todo o algoritmo 10 vezes\n",
    "\n",
    "    for i in range(10):\n",
    "        current_instance = instances_list[instance_index]\n",
    "        melhorSolucao = {'solucao':[], 'aptidao': float('inf'), 'tempoFinal':0}\n",
    "        startTime = time.time()\n",
    "\n",
    "        number_of_jobs = current_instance['number of jobs']\n",
    "        instancia = current_instance['processing']\n",
    "\n",
    "        populacao = createPopulation(number_of_jobs, POPULATION_SIZE)\n",
    "        geracao = 0\n",
    "\n",
    "        while True:\n",
    "            geracao += 1\n",
    "            if geracao % 1000 == 0:\n",
    "                print(TIME_LIMIT)\n",
    "                print(time.time() - startTime)\n",
    "                print(TIME_LIMIT <= time.time() - startTime)\n",
    "            if TIME_LIMIT <= time.time() - startTime:\n",
    "                break\n",
    "\n",
    "            # criar segundo criterio de parada\n",
    "            criterioParada2 = False\n",
    "\n",
    "            if criterioParada2 == True:\n",
    "                break\n",
    "\n",
    "            aptidaoPop = avaliarPop(populacao, instancia)\n",
    "            melhorSolucaoAtual = retornaMelhorSolucao(populacao, aptidaoPop)\n",
    "\n",
    "            todasAsMelhoresSolucoes.append({**melhorSolucaoAtual, \"tempoFinal\": time.time() - startTime, \"geração\": geracao})\n",
    "\n",
    "            if melhorSolucao['aptidao'] > melhorSolucaoAtual['aptidao']:\n",
    "                melhorSolucao = melhorSolucaoAtual\n",
    "\n",
    "            populacaoSelecionada = selecionarPop(\n",
    "                populacao, aptidaoPop, POPULATION_SIZE)\n",
    "\n",
    "            novasSolucoes = recombinacao(populacaoSelecionada)\n",
    "            novasSolucoes = mutacao(novasSolucoes, MUTATION_FACTOR)\n",
    "\n",
    "            selecionarNovaGeracao(populacaoSelecionada,\n",
    "                                  novasSolucoes, POPULATION_SIZE)\n",
    "        pass\n",
    "\n",
    "        melhorSolucao['tempoFinal'] = time.time() - startTime\n",
    "        melhoresSolucoes.append(melhorSolucao)\n",
    "        print(melhorSolucao)\n",
    "\n",
    "    report_list.append({'melhor': melhorSolucao, 'todasAsMelhores': melhoresSolucoes, 'todasAsTrocas': todasAsMelhoresSolucoes})\n"
   ]
  },
  {
   "cell_type": "markdown",
   "metadata": {},
   "source": [
    "Salvar relatório"
   ]
  },
  {
   "cell_type": "code",
   "execution_count": 37,
   "metadata": {},
   "outputs": [
    {
     "ename": "TypeError",
     "evalue": "DictWriter.writerow() takes 2 positional arguments but 3 were given",
     "output_type": "error",
     "traceback": [
      "\u001b[0;31m---------------------------------------------------------------------------\u001b[0m",
      "\u001b[0;31mTypeError\u001b[0m                                 Traceback (most recent call last)",
      "\u001b[1;32m/home/guilherme/gui/flow-shop/trabalho.ipynb Cell 15'\u001b[0m in \u001b[0;36m<cell line: 37>\u001b[0;34m()\u001b[0m\n\u001b[1;32m     <a href='vscode-notebook-cell:/home/guilherme/gui/flow-shop/trabalho.ipynb#ch0000014?line=37'>38</a>\u001b[0m w \u001b[39m=\u001b[39m csv\u001b[39m.\u001b[39mDictWriter(f, dic\u001b[39m.\u001b[39mkeys())\n\u001b[1;32m     <a href='vscode-notebook-cell:/home/guilherme/gui/flow-shop/trabalho.ipynb#ch0000014?line=38'>39</a>\u001b[0m w\u001b[39m.\u001b[39mwriteheader()\n\u001b[0;32m---> <a href='vscode-notebook-cell:/home/guilherme/gui/flow-shop/trabalho.ipynb#ch0000014?line=39'>40</a>\u001b[0m w\u001b[39m.\u001b[39;49mwriterow(dic, dic)\n",
      "\u001b[0;31mTypeError\u001b[0m: DictWriter.writerow() takes 2 positional arguments but 3 were given"
     ]
    }
   ],
   "source": [
    "import numpy as np\n",
    "import csv\n",
    "\n",
    "# salvarRelatorio(relatorio)\n",
    "instancia_resultado = report_list[0]\n",
    "\n",
    "lower_bound = instancia_resultado['melhor']['aptidao']\n",
    "\n",
    "### encontrar upperBound\n",
    "upper_bound = lower_bound\n",
    "\n",
    "lista_dos_melhores_tempos = []\n",
    "lista_das_melhores_aptidoes = []\n",
    "\n",
    "for solucao in instancia_resultado['todasAsMelhores']:\n",
    "  upper_bound = max(solucao['aptidao'], upper_bound)\n",
    "  lista_dos_melhores_tempos.append(solucao['tempoFinal'])\n",
    "  lista_das_melhores_aptidoes.append(solucao['aptidao'])\n",
    "\n",
    "\n",
    "desvio_padrao_tempo = np.std(lista_dos_melhores_tempos)\n",
    "desvio_padrao_aptidao = np.std(lista_das_melhores_aptidoes)\n",
    "\n",
    "variancia_tempo = np.var(lista_dos_melhores_tempos)\n",
    "variancia_aptidao = np.var(lista_das_melhores_aptidoes)\n",
    "\n",
    "media_tempo = np.mean(lista_dos_melhores_tempos)\n",
    "media_aptidao = np.mean(lista_das_melhores_aptidoes)\n",
    "\n",
    "mediana_tempo = np.median(lista_dos_melhores_tempos)\n",
    "mediana_aptidao = np.median(lista_das_melhores_aptidoes)\n",
    "\n",
    "items = [desvio_padrao_tempo, desvio_padrao_aptidao, variancia_tempo, variancia_aptidao, media_tempo, media_aptidao, mediana_tempo, mediana_aptidao, lower_bound, upper_bound]\n",
    "nomes = ['desvio_padrao_tempo', 'desvio_padrao_aptidao', 'variancia_tempo', 'variancia_aptidao', 'media_tempo', 'media_aptidao', 'mediana_tempo', 'mediana_aptidao', 'lower_bound', 'upper_bound']\n",
    "dic = dict(zip(nomes, items))\n",
    "\n",
    "with open('mycsvfile.csv', 'w') as f:  # You will need 'wb' mode in Python 2.x\n",
    "    w = csv.DictWriter(f, dic.keys())\n",
    "    w.writeheader()\n",
    "    w.writerow(dic)\n",
    "\n",
    "\n",
    "# lower bound, upper bound, valores médios e desvios (tanto para aptidão quanto para o tempo de execução)"
   ]
  }
 ],
 "metadata": {
  "interpreter": {
   "hash": "e7370f93d1d0cde622a1f8e1c04877d8463912d04d973331ad4851f04de6915a"
  },
  "kernelspec": {
   "display_name": "Python 3.10.2 64-bit",
   "language": "python",
   "name": "python3"
  },
  "language_info": {
   "codemirror_mode": {
    "name": "ipython",
    "version": 3
   },
   "file_extension": ".py",
   "mimetype": "text/x-python",
   "name": "python",
   "nbconvert_exporter": "python",
   "pygments_lexer": "ipython3",
   "version": "3.10.2"
  },
  "orig_nbformat": 4
 },
 "nbformat": 4,
 "nbformat_minor": 2
}
