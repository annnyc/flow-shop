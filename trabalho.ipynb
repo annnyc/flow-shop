{
 "cells": [
  {
   "cell_type": "code",
   "execution_count": 3,
   "metadata": {},
   "outputs": [],
   "source": [
    "from parser import parse_files\n",
    "from createPopulation import createPopulation\n",
    "from makespan import makespan\n",
    "from avaliarPop import avaliarPop\n",
    "from retornaMelhorSolucao import retornaMelhorSolucao\n",
    "from selecionarPop import selecionarPop\n",
    "from recombinacao import recombinacao\n",
    "from mutacao import mutacao\n",
    "from selecionarNovaGeracao import selecionarNovaGeracao\n",
    "\n",
    "\n",
    "import time"
   ]
  },
  {
   "cell_type": "code",
   "execution_count": null,
   "metadata": {},
   "outputs": [],
   "source": [
    "POPULATION_SIZE = 100\n",
    "TIME_LIMIT = 1000"
   ]
  },
  {
   "cell_type": "markdown",
   "metadata": {},
   "source": [
    "### Ler e parsear os dados"
   ]
  },
  {
   "cell_type": "code",
   "execution_count": 52,
   "metadata": {},
   "outputs": [],
   "source": [
    "files_path = ['files/tai20_10.txt', 'files/tai20_10.txt', 'files/tai20_20.txt', 'files/tai50_5.txt', 'files/tai50_10.txt', 'files/tai50_20.txt', 'files/tai100_5.txt', 'files/tai100_10.txt', 'files/tai100_20.txt', 'files/tai200_10.txt']"
   ]
  },
  {
   "cell_type": "code",
   "execution_count": 53,
   "metadata": {},
   "outputs": [
    {
     "name": "stdout",
     "output_type": "stream",
     "text": [
      "{'processing': [[74, 21, 58, 4, 21, 28, 58, 83, 31, 61, 94, 44, 97, 94, 66, 6, 37, 22, 99, 83], [28, 3, 27, 61, 34, 76, 64, 87, 54, 98, 76, 41, 70, 43, 42, 79, 88, 15, 49, 72], [89, 52, 56, 13, 7, 32, 32, 98, 46, 60, 23, 87, 7, 36, 26, 85, 7, 34, 36, 48], [60, 88, 26, 58, 76, 98, 29, 47, 79, 26, 19, 48, 95, 78, 77, 90, 24, 10, 85, 55], [54, 66, 12, 57, 70, 82, 99, 84, 16, 41, 23, 11, 68, 58, 30, 5, 5, 39, 58, 31], [92, 11, 54, 97, 57, 53, 65, 77, 51, 36, 53, 19, 54, 86, 40, 56, 79, 74, 24, 3], [9, 8, 88, 72, 27, 22, 50, 2, 49, 82, 93, 96, 43, 13, 60, 11, 37, 91, 84, 67], [4, 18, 25, 28, 95, 51, 84, 18, 6, 90, 69, 61, 57, 5, 75, 4, 38, 28, 4, 80], [25, 15, 91, 49, 56, 10, 62, 70, 76, 99, 58, 83, 84, 64, 74, 14, 18, 48, 96, 86], [15, 84, 8, 30, 95, 79, 9, 91, 76, 26, 42, 66, 70, 91, 67, 3, 98, 4, 71, 62]], 'number of jobs': 20, 'number of machines': 10, 'initial seed': 587595453, 'upper bound and lower bound': 1582}\n"
     ]
    }
   ],
   "source": [
    "instances_list = parse_files(files_path)\n",
    "# o campo processing possui as instancias a serem calculadas\n",
    "print(instances_list[0])"
   ]
  },
  {
   "cell_type": "markdown",
   "metadata": {},
   "source": [
    "### Inicializar o relatorio para cada arquivo\n",
    "relatório é uma lista de dicionarios"
   ]
  },
  {
   "cell_type": "code",
   "execution_count": 60,
   "metadata": {},
   "outputs": [
    {
     "name": "stdout",
     "output_type": "stream",
     "text": [
      "[{'solucao': [], 'aptidao': inf, 'tempoFinal': 0}, {'solucao': [], 'aptidao': inf, 'tempoFinal': 0}, {'solucao': [], 'aptidao': inf, 'tempoFinal': 0}, {'solucao': [], 'aptidao': inf, 'tempoFinal': 0}, {'solucao': [], 'aptidao': inf, 'tempoFinal': 0}, {'solucao': [], 'aptidao': inf, 'tempoFinal': 0}, {'solucao': [], 'aptidao': inf, 'tempoFinal': 0}, {'solucao': [], 'aptidao': inf, 'tempoFinal': 0}, {'solucao': [], 'aptidao': inf, 'tempoFinal': 0}, {'solucao': [], 'aptidao': inf, 'tempoFinal': 0}]\n"
     ]
    }
   ],
   "source": [
    "## traduzir para ingles\n",
    "report_list = [\n",
    "  {'solucao':[], 'aptidao': float('inf'), 'tempoFinal':0}\n",
    "] * len(instances_list)\n",
    "print(report_list)"
   ]
  },
  {
   "cell_type": "markdown",
   "metadata": {},
   "source": [
    "Iniciar o laço de repetição para cada arquivo"
   ]
  },
  {
   "cell_type": "code",
   "execution_count": null,
   "metadata": {},
   "outputs": [],
   "source": []
  },
  {
   "cell_type": "markdown",
   "metadata": {},
   "source": [
    "## funções a serem implementadas\n",
    "\n",
    "\n",
    "def makespan(instancia, solucao)\n",
    "#copiar função fornecida\n",
    "\n",
    "def lerInstancias(listaArquivos)\n",
    "#ler a primeira instância de cada um dos dez arquivos, armazenar em uma lista e retornar essa lista\n",
    "\n",
    "def criarPopulacaoInicial(instancia, tamanho)\n",
    "#criar uma lista de soluções aleatórias (podem definir outro critério se desejarem) com o tamanho repassado\n",
    "\n",
    "def avaliarPop(populacao)\n",
    "#usar a função makespan para avalaiar a aptidão de cada elemento da população\n",
    "\n",
    "def retornaMelhorSolucao(populacao, aptidaoPop)\n",
    "#retorna a melhor solucao dentre a populacao atual\n",
    "\n",
    "def selecionarPop(populacao, aptidaoPop)\n",
    "#função deve retornar quais elementos serão recombinados e com quem (pode fazer uso da aptidao ou não para o critério de seleção)\n",
    "\n",
    "def recombinacao(populacaoSelecionada)\n",
    "#função deve usar o operador de recombinacao (definido pelo grupo_ para gerar novas soluções filhas\n",
    "\n",
    "def mutacao(novasSolucoes)\n",
    "#função deve usar o operador de mutacao (definido pelo grupo) para modificar as soluções filhas (não precisa ser todas)\n",
    "\n",
    "def selecionarNovaGeracao(populacaoAtual, novasSolucoes)\n",
    "#função deve criar uma nova população com as soluções novas (eliminando as antigas ou usando outro critério de seleção desejado)\n",
    "\n",
    "def salvarRelatorio(relatorio)"
   ]
  },
  {
   "cell_type": "code",
   "execution_count": 55,
   "metadata": {},
   "outputs": [
    {
     "name": "stdout",
     "output_type": "stream",
     "text": [
      "a\n",
      "a\n",
      "a\n",
      "a\n",
      "a\n",
      "a\n",
      "a\n",
      "a\n",
      "a\n",
      "a\n"
     ]
    }
   ],
   "source": [
    "for instance_index in range (len(instances_list)):\n",
    "    \n",
    "    # Começa vazio em todos os casos\n",
    "    melhoresSolucoes = report_list[instance_index]\n",
    "\n",
    "    # Para cada instância executar todo o algoritmo 10 vezes\n",
    "\n",
    "    for i in range (10):\n",
    "        current_instance = instances_list[i]\n",
    "        best_solution = report_list[i]\n",
    "        startTime = time.time()\n",
    "\n",
    "        population = createPopulation(current_instance, POPULATION_SIZE)\n",
    "\n",
    "        while True:\n",
    "            if TIME_LIMIT <= time.time() - startTime:\n",
    "                break\n",
    "        ## criar segundo criterio de parada\n",
    "            criterioParada2 = False\n",
    "            if criterioParada2 == True:\n",
    "                break\n",
    "\n",
    "            aptidaoPop = avaliarPop(populacao)\n",
    "            melhorSolucaoAtual = retornaMelhorSolucao(populacao, aptidaoPop)\n",
    "\n",
    "            if melhorSolucao['aptidao'] > melhorSolucaoAtual['aptidao']:\n",
    "                melhorSolucao = melhorSolucaoAtual\n",
    "            \n",
    "            populacaoSelecionada = selecionarPop(populacao, aptidaoPop)\n",
    "            novasSolucoes = recombinacao(populacaoSelecionada)\n",
    "            novasSolucoes = mutacao(novasSolucoes)\n",
    "            populacao = selecionarNovaGeracao(populacao, novasSolucoes)\n",
    "        pass\n",
    "        \n",
    "        melhorSolucao['tempoFinal'] = time.time() - startTime\n",
    "        print(melhorSolucao)\n",
    "        melhoresSolucoes = melhoresSolucoes | melhorSolucao\n",
    "    report_list[instance_index] = melhoresSolucoes\n",
    "\n",
    "  "
   ]
  },
  {
   "cell_type": "markdown",
   "metadata": {},
   "source": [
    "Salvar relatório"
   ]
  },
  {
   "cell_type": "code",
   "execution_count": null,
   "metadata": {},
   "outputs": [],
   "source": [
    "# salvarRelatorio(relatorio)\n"
   ]
  }
 ],
 "metadata": {
  "interpreter": {
   "hash": "e7370f93d1d0cde622a1f8e1c04877d8463912d04d973331ad4851f04de6915a"
  },
  "kernelspec": {
   "display_name": "Python 3.10.2 64-bit",
   "language": "python",
   "name": "python3"
  },
  "language_info": {
   "codemirror_mode": {
    "name": "ipython",
    "version": 3
   },
   "file_extension": ".py",
   "mimetype": "text/x-python",
   "name": "python",
   "nbconvert_exporter": "python",
   "pygments_lexer": "ipython3",
   "version": "3.10.2"
  },
  "orig_nbformat": 4
 },
 "nbformat": 4,
 "nbformat_minor": 2
}
